{
 "cells": [
  {
   "cell_type": "code",
   "execution_count": 4,
   "id": "435b165d",
   "metadata": {},
   "outputs": [],
   "source": [
    "# ! pip install pyrtools\n",
    "# ! pip install opencv-python"
   ]
  },
  {
   "cell_type": "code",
   "execution_count": 8,
   "id": "e9b788d5",
   "metadata": {},
   "outputs": [],
   "source": []
  },
  {
   "cell_type": "code",
   "execution_count": 74,
   "id": "f98651d2",
   "metadata": {},
   "outputs": [],
   "source": []
  },
  {
   "cell_type": "code",
   "execution_count": 242,
   "id": "483cb415",
   "metadata": {},
   "outputs": [],
   "source": [
    "from scipy import signal\n",
    "\n",
    "def conv2(x, y, mode='same'):\n",
    "    return np.rot90(signal.convolve2d(np.rot90(x, 2), np.rot90(y, 2), mode=mode), 2)\n",
    "\n",
    "\n",
    "def RRoverlapconv(kernel, in_):\n",
    "    out = conv2(in_, kernel, mode='same')\n",
    "    \n",
    "    rect = np.ones_like(in_)\n",
    "\n",
    "    overlapsum = conv2(rect, kernel, 'same')\n",
    "    out = np.sum(kernel) * out / overlapsum\n",
    "    return out\n",
    "\n",
    "\n",
    "\n",
    "def RRgaussfilter1D(halfsupport, sigma, center=0):\n",
    "    t = list(range(-halfsupport, halfsupport+1))\n",
    "    kernel = [np.exp(-(x-center) **2 /(2* sigma ** 2)) for x in t]\n",
    "    kernel = kernel/sum(kernel)\n",
    "    \n",
    "    return kernel\n",
    "    \n",
    "\n",
    "def computeColorClutter(L_pyr, a_pyr, b_pyr, sigD):\n",
    "    \n",
    "    numlevels = len(L_pyr);\n",
    "\n",
    "    \n",
    "    if len(a_pyr)!=numlevels or len(b_pyr)!=numlevels:\n",
    "        print('L, a, and b channels must have the same number of levels in the Gaussian pyramid\\n')\n",
    "\n",
    "    covMx = {}\n",
    "    clutter_levels = [0] * numlevels\n",
    "    DL = [0] * numlevels\n",
    "    Da = [0] * numlevels\n",
    "    Db = [0] * numlevels\n",
    "    \n",
    "    \n",
    "    deltaL2 = 0.0007 ** 2\n",
    "    deltaa2 = 0.1 ** 2\n",
    "    deltab2 = 0.05 ** 2\n",
    "    \n",
    "    bigG = RRgaussfilter1D(round(2*sigD), sigD)[:,None]\n",
    "    \n",
    "    for i in range(0, numlevels):\n",
    "        DL[i] = RRoverlapconv(bigG, L_pyr[(i,0)])\n",
    "        DL[i] = RRoverlapconv(bigG.T, DL[i])   # E(L)\n",
    "        Da[i] = RRoverlapconv(bigG, a_pyr[(i,0)])\n",
    "        Da[i] = RRoverlapconv(bigG.T, Da[i])   # E(a)\n",
    "        Db[i] = RRoverlapconv(bigG, b_pyr[(i,0)]);\n",
    "        Db[i] = RRoverlapconv(bigG.T, Db[i])    # E(b)\n",
    "\n",
    "    \n",
    "        # dict idea\n",
    "        covMx[(i,0,0)] = RRoverlapconv(bigG, L_pyr[(i,0)] ** 2)\n",
    "        covMx[(i,0,0)] = RRoverlapconv(bigG.T, covMx[(i,0,0)]) - DL[i] ** 2 + deltaL2  # cov(L,L) + deltaL2\n",
    "        covMx[(i,0,1)] = RRoverlapconv(bigG, L_pyr[(i,0)] * a_pyr[(i,0)])\n",
    "        covMx[(i,0,1)] = RRoverlapconv(bigG.T, covMx[(i,0,1)]) - DL[i] * Da[i]        # cov(L,a)\n",
    "        covMx[(i,0,2)] = RRoverlapconv(bigG, L_pyr[(i,0)] * b_pyr[(i,0)])\n",
    "        covMx[(i,0,2)] = RRoverlapconv(bigG.T, covMx[(i,0,2)]) - DL[i] * Db[i]        # cov(L,b)\n",
    "        covMx[(i,1,1)] = RRoverlapconv(bigG, a_pyr[(i,0)] ** 2)\n",
    "        covMx[(i,1,1)] = RRoverlapconv(bigG.T, covMx[(i,1,1)]) - Da[i] ** 2 + deltaa2  # cov(a,a) + deltaa2\n",
    "        covMx[(i,1,2)] = RRoverlapconv(bigG, a_pyr[(i,0)] * b_pyr[(i,0)])\n",
    "        covMx[(i,1,2)] = RRoverlapconv(bigG.T, covMx[(i,1,2)]) - Da[i] * Db[i]        # cov(a,b)\n",
    "        covMx[(i,2,2)] = RRoverlapconv(bigG, b_pyr[(i,0)] ** 2)    \n",
    "        covMx[(i,2,2)] = RRoverlapconv(bigG.T, covMx[(i,2,2)]) - Db[i] ** 2 + deltab2;  # cov(b,b) + deltab2\n",
    "\n",
    "    \n",
    "\n",
    "        \n",
    "        detIm = covMx[(i,0,0)]*(covMx[(i,1,1)]*covMx[(i,2,2)]-covMx[(i,1,2)]*covMx[(i,1,2)])\\\n",
    "        - covMx[(i,0,1)]*(covMx[(i,0,1)]*covMx[(i,2,2)]-covMx[(i,1,2)]*covMx[(i,0,2)])\\\n",
    "        + covMx[(i,0,2)]*(covMx[(i,0,1)]*covMx[(i,1,2)]-covMx[(i,1,1)]*covMx[(i,0,2)])\n",
    "\n",
    "        \n",
    "        clutter_levels[i] = np.sqrt(detIm) ** (1/3)\n",
    "    return clutter_levels"
   ]
  },
  {
   "cell_type": "code",
   "execution_count": 245,
   "id": "62ce762b",
   "metadata": {},
   "outputs": [
    {
     "data": {
      "text/plain": [
       "[array([[1.54358941, 1.56172307, 1.55471474, ..., 0.37779581, 0.36280673,\n",
       "         0.34564434],\n",
       "        [1.57336146, 1.57588078, 1.55611226, ..., 0.37443201, 0.36170178,\n",
       "         0.34624686],\n",
       "        [1.59275816, 1.58223322, 1.55120398, ..., 0.36947713, 0.35906266,\n",
       "         0.34582149],\n",
       "        ...,\n",
       "        [1.16399866, 1.26569145, 1.36424538, ..., 0.46363168, 0.46721382,\n",
       "         0.4660676 ],\n",
       "        [1.03924318, 1.13653012, 1.24017648, ..., 0.47135642, 0.47450614,\n",
       "         0.47288149],\n",
       "        [0.92966333, 1.01544798, 1.11979783, ..., 0.4729512 , 0.47517573,\n",
       "         0.47273977]]),\n",
       " array([[2.10724533, 2.04117338, 1.95610481, ..., 0.5026038 , 0.50027247,\n",
       "         0.4892082 ],\n",
       "        [2.08701588, 2.01168645, 1.91852326, ..., 0.49936565, 0.49621639,\n",
       "         0.48444254],\n",
       "        [2.04767765, 1.96491872, 1.86576313, ..., 0.49976003, 0.49556719,\n",
       "         0.48327054],\n",
       "        ...,\n",
       "        [3.08248865, 3.10828672, 3.13254578, ..., 0.53258666, 0.54068463,\n",
       "         0.54776759],\n",
       "        [2.96850149, 3.02553597, 3.07871472, ..., 0.56155231, 0.571236  ,\n",
       "         0.57958735],\n",
       "        [2.83624616, 2.9251167 , 3.00921501, ..., 0.58559489, 0.59594262,\n",
       "         0.60484646]]),\n",
       " array([[2.39942658, 2.3868368 , 2.33936298, ..., 0.78025035, 0.76101899,\n",
       "         0.74597122],\n",
       "        [2.31804398, 2.30755453, 2.26432121, ..., 0.8054609 , 0.78622645,\n",
       "         0.76998765],\n",
       "        [2.21570864, 2.20915756, 2.17174229, ..., 0.82057944, 0.8003179 ,\n",
       "         0.7828795 ],\n",
       "        ...,\n",
       "        [4.11793862, 4.20564237, 4.3153125 , ..., 0.83428973, 0.80974224,\n",
       "         0.77967417],\n",
       "        [4.08788391, 4.15522885, 4.24697977, ..., 0.82709407, 0.7999189 ,\n",
       "         0.7660254 ],\n",
       "        [4.04271828, 4.09896957, 4.17778699, ..., 0.82073453, 0.79126794,\n",
       "         0.75324848]])]"
      ]
     },
     "execution_count": 245,
     "metadata": {},
     "output_type": "execute_result"
    }
   ],
   "source": [
    "# test\n",
    "\n",
    "RRLab = computeClutter('test.jpg')\n",
    "\n",
    "clutter_levels = computeColorClutter(RRLab[0],RRLab[1],RRLab[2], 3)\n",
    "clutter_levels"
   ]
  },
  {
   "cell_type": "code",
   "execution_count": 218,
   "id": "4344578c",
   "metadata": {},
   "outputs": [
    {
     "data": {
      "text/plain": [
       "(450, 450)"
      ]
     },
     "execution_count": 218,
     "metadata": {},
     "output_type": "execute_result"
    }
   ],
   "source": [
    "bigG = RRgaussfilter1D(round(2*sigD), sigD)[:,None]\n",
    "RRoverlapconv(bigG, L_pyr[(i,0)]).shape"
   ]
  },
  {
   "cell_type": "code",
   "execution_count": 231,
   "id": "c966b75f",
   "metadata": {},
   "outputs": [
    {
     "data": {
      "text/plain": [
       "(450, 450)"
      ]
     },
     "execution_count": 231,
     "metadata": {},
     "output_type": "execute_result"
    }
   ],
   "source": [
    "RRoverlapconv(bigG, L_pyr[(i,0)] ** 2).shape"
   ]
  },
  {
   "cell_type": "code",
   "execution_count": 222,
   "id": "a3fa3656",
   "metadata": {},
   "outputs": [
    {
     "data": {
      "text/plain": [
       "1.0000000000000002"
      ]
     },
     "execution_count": 222,
     "metadata": {},
     "output_type": "execute_result"
    }
   ],
   "source": [
    "np.sum(bigG.T)"
   ]
  },
  {
   "cell_type": "code",
   "execution_count": null,
   "id": "0f091be1",
   "metadata": {},
   "outputs": [],
   "source": [
    "import pyrtools as pt\n",
    "import numpy as np\n",
    "from scipy import signal\n",
    "\n",
    "def colorClutter(inputImage, numlevels, pool_sigma=3, pix=1):\n",
    "    \n",
    "    if isinstance(inputImage, list):\n",
    "        L_pyr = RRLab[0]\n",
    "        a_pyr = RRLab[1]\n",
    "        b_pyr = RRLab[2]\n",
    "        \n",
    "    else:\n",
    "        pass #TODO\n",
    "    \n",
    "    clutter_levels = computeColorClutter(L_pyr, a_pyr, b_pyr, pool_sigma);\n",
    "    \n",
    "\n",
    "    kernel_1d = np.array([[0.05, 0.25, 0.4, 0.25, 0.05]])\n",
    "    kernel_2d = signal.convolve2d(kernel_1d, kernel_1d.T)\n",
    "    \n",
    "    #TODO\n",
    "    \n",
    "    return clutter_levels, clutter_map"
   ]
  },
  {
   "cell_type": "code",
   "execution_count": 82,
   "id": "2fe6bbb3",
   "metadata": {},
   "outputs": [],
   "source": [
    "import cv2\n",
    "import pyrtools as pt\n",
    "import numpy as np\n",
    "\n",
    "def computeClutter(inputImage, numlevels=3, contrast_filt_sigma=1, contrast_pool_sigma=None, color_pool_sigma=3, contrast_pix=0, color_pix=0, orient_pix=0):\n",
    "    \n",
    "    if contrast_pool_sigma is None:\n",
    "        contrast_pool_sigma = 3 * contrast_filt_sigma\n",
    "\n",
    "    orient_pool_sigma = 7/2\n",
    "\n",
    "    if isinstance(inputImage, str):\n",
    "        im = cv2.imread(inputImage)\n",
    "        if im is None:\n",
    "            print('Unable to open %s image file.') #TODO: add logger\n",
    "            return 0\n",
    "        else:\n",
    "            m, n, d = im.shape\n",
    "            if d == 3:\n",
    "                Lab = cv2.cvtColor(im, cv2.COLOR_RGB2LAB)\n",
    "                RRLab = [0, 0, 0]\n",
    "            else:\n",
    "                print('should be run on RGB color images.  Input image appears to be grayscale.\\n')\n",
    "                return 0\n",
    "  \n",
    "    else:\n",
    "        pass #TODO \n",
    "\n",
    "    pyr = pt.pyramids.GaussianPyramid(Lab[:,:,0], height=numlevels)\n",
    "    RRLab[0] = pyr.pyr_coeffs\n",
    "\n",
    "    pyr = pt.pyramids.GaussianPyramid(Lab[:,:,1], height=numlevels)\n",
    "    RRLab[1] = pyr.pyr_coeffs\n",
    "\n",
    "    pyr = pt.pyramids.GaussianPyramid(Lab[:,:,0], height=numlevels)\n",
    "    RRLab[2] = pyr.pyr_coeffs\n",
    "        \n",
    "    \n",
    "#     # compute the color clutter\n",
    "#     color_clutter_levels, color_clutter_map = colorClutter(RRLab, numlevels, color_pool_sigma, color_pix)\n",
    "#     # compute the contrast clutter\n",
    "#     contrast_clutter_levels, contrast_clutter_map = contrastClutter(RRLab, numlevels, contrast_filt_sigma, contrast_pool_sigma, contrast_pix)\n",
    "#     #compute the orientation clutter\n",
    "#     orient_clutter_levels, orientation_clutter_map = orientationClutter(RRLab, numlevels, orient_pix)\n",
    "\n",
    "#     # output them in cell structures\n",
    "#     color_clutter = [color_clutter_levels, color_clutter_map]\n",
    "#     contrast_clutter = [contrast_clutter_levels, contrast_clutter_map]\n",
    "#     orientation_clutter = [orient_clutter_levels, orientation_clutter_map]\n",
    "\n",
    "    return RRLab\n",
    "    # return color_clutter, contrast_clutter, orientation_clutter\n"
   ]
  },
  {
   "cell_type": "code",
   "execution_count": null,
   "id": "047ac807",
   "metadata": {},
   "outputs": [],
   "source": [
    "def getClutter_Fc(filename, p=1):\n",
    "    color_clutter, contrast_clutter, orient_clutter = computeClutter(filename, 3, 1, 3, 3, 0, 0, 0)\n",
    "    clutter_map_fc = color_clutter{2} / 0.2088 + contrast_clutter{2} / 0.0660 + orient_clutter{2} / 0.0269\n",
    "    clutter_scalar_fc = mean(clutter_map_fc(:).^ p).^ (1 / p) #element wise\n",
    "    return clutter_scalar_fc, clutter_map_fc\n"
   ]
  },
  {
   "cell_type": "code",
   "execution_count": null,
   "id": "39c5d901",
   "metadata": {},
   "outputs": [],
   "source": [
    "clutter_scalar_fc, clutter_map_fc = getClutter_FC('test.jpg');"
   ]
  }
 ],
 "metadata": {
  "kernelspec": {
   "display_name": "Python 3",
   "language": "python",
   "name": "python3"
  },
  "language_info": {
   "codemirror_mode": {
    "name": "ipython",
    "version": 3
   },
   "file_extension": ".py",
   "mimetype": "text/x-python",
   "name": "python",
   "nbconvert_exporter": "python",
   "pygments_lexer": "ipython3",
   "version": "3.8.10"
  }
 },
 "nbformat": 4,
 "nbformat_minor": 5
}
