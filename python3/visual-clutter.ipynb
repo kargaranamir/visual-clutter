{
 "cells": [
  {
   "cell_type": "code",
   "execution_count": 4,
   "id": "c37a90cd",
   "metadata": {},
   "outputs": [],
   "source": [
    "# ! pip install pyrtools\n",
    "# ! pip install opencv-python"
   ]
  },
  {
   "cell_type": "code",
   "execution_count": 8,
   "id": "e57bed2f",
   "metadata": {},
   "outputs": [],
   "source": []
  },
  {
   "cell_type": "code",
   "execution_count": 74,
   "id": "02fa1550",
   "metadata": {},
   "outputs": [],
   "source": []
  },
  {
   "cell_type": "code",
   "execution_count": 227,
   "id": "a7acbb8b",
   "metadata": {},
   "outputs": [],
   "source": [
    "from scipy import signal\n",
    "\n",
    "def conv2(x, y, mode='same'):\n",
    "    return np.rot90(signal.convolve2d(np.rot90(x, 2), np.rot90(y, 2), mode=mode), 2)\n",
    "\n",
    "\n",
    "def RRoverlapconv(kernel, in_):\n",
    "    out = conv2(in_, kernel, mode='same')\n",
    "    \n",
    "    rect = np.ones_like(in_)\n",
    "\n",
    "    overlapsum = conv2(rect, kernel, 'same')\n",
    "    out = np.sum(kernel) * out / overlapsum\n",
    "    return out\n",
    "\n",
    "\n",
    "\n",
    "def RRgaussfilter1D(halfsupport, sigma, center=0):\n",
    "    t = list(range(-halfsupport, halfsupport+1))\n",
    "    kernel = [np.exp(-(x-center) **2 /(2* sigma ** 2)) for x in t]\n",
    "    kernel = kernel/sum(kernel)\n",
    "    \n",
    "    return kernel\n",
    "    \n",
    "\n",
    "def computeColorClutter(L_pyr, a_pyr, b_pyr, sigD):\n",
    "    \n",
    "    numlevels = len(L_pyr);\n",
    "    \n",
    "    covMx = {}\n",
    "    clutter_levels = np.zeros([numlevels, 1])\n",
    "    DL = [0] * numlevels\n",
    "    Da = [0] * numlevels\n",
    "    Db = [0] * numlevels\n",
    "    \n",
    "    \n",
    "    deltaL2 = 0.0007 ** 2\n",
    "    deltaa2 = 0.1 ** 2\n",
    "    deltab2 = 0.05 ** 2\n",
    "    \n",
    "    bigG = RRgaussfilter1D(round(2*sigD), sigD)[:,None]\n",
    "    \n",
    "    for i in range(0, numlevels):\n",
    "        DL[i] = RRoverlapconv(bigG, L_pyr[(i,0)])\n",
    "        DL[i] = RRoverlapconv(bigG.T, DL[i])   # E(L)\n",
    "        Da[i] = RRoverlapconv(bigG, a_pyr[(i,0)])\n",
    "        Da[i] = RRoverlapconv(bigG.T, Da[i])   # E(a)\n",
    "        Db[i] = RRoverlapconv(bigG, b_pyr[(i,0)]);\n",
    "        Db[i] = RRoverlapconv(bigG.T, Db[i])    # E(b)\n",
    "\n",
    "    \n",
    "        # dict idea\n",
    "        covMx[(i,0,0)] = RRoverlapconv(bigG, L_pyr[(i,0)] ** 2)\n",
    "        covMx[i][0][0] = RRoverlapconv(bigG.T, covMx[(i,0,0)]) - DL[i] ** 2 + deltaL2  # cov(L,L) + deltaL2\n",
    "        covMx[i][0][1] = RRoverlapconv(bigG, L_pyr[i] * a_pyr[i])\n",
    "        covMx[i][0][1] = RRoverlapconv(bigG.T, covMx[i][1][2]) - DL[i] * Da[i]        # cov(L,a)\n",
    "        covMx[i][0][2] = RRoverlapconv(bigG, L_pyr[i] * b_pyr[i])\n",
    "        covMx[i][0][2] = RRoverlapconv(bigG.T, covMx[i][1][3]) - DL[i] * Db[i]        # cov(L,b)\n",
    "        covMx[i][1][1] = RRoverlapconv(bigG, a_pyr[i] ** 2)\n",
    "        covMx[i][1][1] = RRoverlapconv(bigG.T, covMx[i][2][2]) - Da[i] ** 2 + deltaa2  # cov(a,a) + deltaa2\n",
    "        covMx[i][1][2] = RRoverlapconv(bigG, a_pyr[i] * b_pyr[i])\n",
    "        covMx[i][2][2] = RRoverlapconv(bigG.T, covMx[i][2][3]) - Da[i] * Db[i]        # cov(a,b)\n",
    "        covMx[i][2][2] = RRoverlapconv(bigG, b_pyr[i] ** 2)    \n",
    "        covMx[i][2][2] = RRoverlapconv(bigG.T, covMx[i][3][3]) - Db[i] ** 2 + deltab2;  # cov(b,b) + deltab2\n",
    "\n",
    "    \n",
    "    if len(a_pyr)!=numlevels or len(b_pyr)!=numlevels:\n",
    "        print('L, a, and b channels must have the same number of levels in the Gaussian pyramid\\n')\n",
    "\n",
    "\n",
    "    clutter_levels = numlevels\n",
    "    return DL"
   ]
  },
  {
   "cell_type": "code",
   "execution_count": 228,
   "id": "27c0bb6f",
   "metadata": {},
   "outputs": [
    {
     "ename": "ValueError",
     "evalue": "setting an array element with a sequence.",
     "output_type": "error",
     "traceback": [
      "\u001b[0;31m---------------------------------------------------------------------------\u001b[0m",
      "\u001b[0;31mTypeError\u001b[0m                                 Traceback (most recent call last)",
      "\u001b[0;31mTypeError\u001b[0m: only size-1 arrays can be converted to Python scalars",
      "\nThe above exception was the direct cause of the following exception:\n",
      "\u001b[0;31mValueError\u001b[0m                                Traceback (most recent call last)",
      "\u001b[0;32m<ipython-input-228-d8d96012982c>\u001b[0m in \u001b[0;36m<module>\u001b[0;34m\u001b[0m\n\u001b[1;32m      3\u001b[0m \u001b[0mRRLab\u001b[0m \u001b[0;34m=\u001b[0m \u001b[0mcomputeClutter\u001b[0m\u001b[0;34m(\u001b[0m\u001b[0;34m'test.jpg'\u001b[0m\u001b[0;34m)\u001b[0m\u001b[0;34m\u001b[0m\u001b[0;34m\u001b[0m\u001b[0m\n\u001b[1;32m      4\u001b[0m \u001b[0;34m\u001b[0m\u001b[0m\n\u001b[0;32m----> 5\u001b[0;31m \u001b[0mcomputeColorClutter\u001b[0m\u001b[0;34m(\u001b[0m\u001b[0mRRLab\u001b[0m\u001b[0;34m[\u001b[0m\u001b[0;36m0\u001b[0m\u001b[0;34m]\u001b[0m\u001b[0;34m,\u001b[0m\u001b[0mRRLab\u001b[0m\u001b[0;34m[\u001b[0m\u001b[0;36m1\u001b[0m\u001b[0;34m]\u001b[0m\u001b[0;34m,\u001b[0m\u001b[0mRRLab\u001b[0m\u001b[0;34m[\u001b[0m\u001b[0;36m2\u001b[0m\u001b[0;34m]\u001b[0m\u001b[0;34m,\u001b[0m \u001b[0;36m3\u001b[0m\u001b[0;34m)\u001b[0m\u001b[0;34m\u001b[0m\u001b[0;34m\u001b[0m\u001b[0m\n\u001b[0m",
      "\u001b[0;32m<ipython-input-227-2203a4a9d202>\u001b[0m in \u001b[0;36mcomputeColorClutter\u001b[0;34m(L_pyr, a_pyr, b_pyr, sigD)\u001b[0m\n\u001b[1;32m     51\u001b[0m \u001b[0;34m\u001b[0m\u001b[0m\n\u001b[1;32m     52\u001b[0m \u001b[0;34m\u001b[0m\u001b[0m\n\u001b[0;32m---> 53\u001b[0;31m         \u001b[0mcovMx\u001b[0m\u001b[0;34m[\u001b[0m\u001b[0mi\u001b[0m\u001b[0;34m]\u001b[0m\u001b[0;34m[\u001b[0m\u001b[0;36m0\u001b[0m\u001b[0;34m]\u001b[0m\u001b[0;34m[\u001b[0m\u001b[0;36m0\u001b[0m\u001b[0;34m]\u001b[0m \u001b[0;34m=\u001b[0m \u001b[0mRRoverlapconv\u001b[0m\u001b[0;34m(\u001b[0m\u001b[0mbigG\u001b[0m\u001b[0;34m,\u001b[0m \u001b[0mL_pyr\u001b[0m\u001b[0;34m[\u001b[0m\u001b[0;34m(\u001b[0m\u001b[0mi\u001b[0m\u001b[0;34m,\u001b[0m\u001b[0;36m0\u001b[0m\u001b[0;34m)\u001b[0m\u001b[0;34m]\u001b[0m \u001b[0;34m**\u001b[0m \u001b[0;36m2\u001b[0m\u001b[0;34m)\u001b[0m\u001b[0;34m\u001b[0m\u001b[0;34m\u001b[0m\u001b[0m\n\u001b[0m\u001b[1;32m     54\u001b[0m         \u001b[0mcovMx\u001b[0m\u001b[0;34m[\u001b[0m\u001b[0mi\u001b[0m\u001b[0;34m]\u001b[0m\u001b[0;34m[\u001b[0m\u001b[0;36m0\u001b[0m\u001b[0;34m]\u001b[0m\u001b[0;34m[\u001b[0m\u001b[0;36m0\u001b[0m\u001b[0;34m]\u001b[0m \u001b[0;34m=\u001b[0m \u001b[0mRRoverlapconv\u001b[0m\u001b[0;34m(\u001b[0m\u001b[0mbigG\u001b[0m\u001b[0;34m.\u001b[0m\u001b[0mT\u001b[0m\u001b[0;34m,\u001b[0m \u001b[0mcovMx\u001b[0m\u001b[0;34m[\u001b[0m\u001b[0mi\u001b[0m\u001b[0;34m]\u001b[0m\u001b[0;34m[\u001b[0m\u001b[0;36m1\u001b[0m\u001b[0;34m]\u001b[0m\u001b[0;34m[\u001b[0m\u001b[0;36m1\u001b[0m\u001b[0;34m]\u001b[0m\u001b[0;34m)\u001b[0m \u001b[0;34m-\u001b[0m \u001b[0mDL\u001b[0m\u001b[0;34m[\u001b[0m\u001b[0mi\u001b[0m\u001b[0;34m]\u001b[0m \u001b[0;34m**\u001b[0m \u001b[0;36m2\u001b[0m \u001b[0;34m+\u001b[0m \u001b[0mdeltaL2\u001b[0m  \u001b[0;31m# cov(L,L) + deltaL2\u001b[0m\u001b[0;34m\u001b[0m\u001b[0;34m\u001b[0m\u001b[0m\n\u001b[1;32m     55\u001b[0m         \u001b[0mcovMx\u001b[0m\u001b[0;34m[\u001b[0m\u001b[0mi\u001b[0m\u001b[0;34m]\u001b[0m\u001b[0;34m[\u001b[0m\u001b[0;36m0\u001b[0m\u001b[0;34m]\u001b[0m\u001b[0;34m[\u001b[0m\u001b[0;36m1\u001b[0m\u001b[0;34m]\u001b[0m \u001b[0;34m=\u001b[0m \u001b[0mRRoverlapconv\u001b[0m\u001b[0;34m(\u001b[0m\u001b[0mbigG\u001b[0m\u001b[0;34m,\u001b[0m \u001b[0mL_pyr\u001b[0m\u001b[0;34m[\u001b[0m\u001b[0mi\u001b[0m\u001b[0;34m]\u001b[0m \u001b[0;34m*\u001b[0m \u001b[0ma_pyr\u001b[0m\u001b[0;34m[\u001b[0m\u001b[0mi\u001b[0m\u001b[0;34m]\u001b[0m\u001b[0;34m)\u001b[0m\u001b[0;34m\u001b[0m\u001b[0;34m\u001b[0m\u001b[0m\n",
      "\u001b[0;31mValueError\u001b[0m: setting an array element with a sequence."
     ]
    }
   ],
   "source": [
    "# test\n",
    "\n",
    "RRLab = computeClutter('test.jpg')\n",
    "\n",
    "computeColorClutter(RRLab[0],RRLab[1],RRLab[2], 3)\n"
   ]
  },
  {
   "cell_type": "code",
   "execution_count": 218,
   "id": "f215a4c4",
   "metadata": {},
   "outputs": [
    {
     "data": {
      "text/plain": [
       "(450, 450)"
      ]
     },
     "execution_count": 218,
     "metadata": {},
     "output_type": "execute_result"
    }
   ],
   "source": [
    "bigG = RRgaussfilter1D(round(2*sigD), sigD)[:,None]\n",
    "RRoverlapconv(bigG, L_pyr[(i,0)]).shape"
   ]
  },
  {
   "cell_type": "code",
   "execution_count": 231,
   "id": "a7c4664c",
   "metadata": {},
   "outputs": [
    {
     "data": {
      "text/plain": [
       "(450, 450)"
      ]
     },
     "execution_count": 231,
     "metadata": {},
     "output_type": "execute_result"
    }
   ],
   "source": [
    "RRoverlapconv(bigG, L_pyr[(i,0)] ** 2).shape"
   ]
  },
  {
   "cell_type": "code",
   "execution_count": 222,
   "id": "89ab16dd",
   "metadata": {},
   "outputs": [
    {
     "data": {
      "text/plain": [
       "1.0000000000000002"
      ]
     },
     "execution_count": 222,
     "metadata": {},
     "output_type": "execute_result"
    }
   ],
   "source": [
    "np.sum(bigG.T)"
   ]
  },
  {
   "cell_type": "code",
   "execution_count": null,
   "id": "a0a057df",
   "metadata": {},
   "outputs": [],
   "source": [
    "import pyrtools as pt\n",
    "import numpy as np\n",
    "from scipy import signal\n",
    "\n",
    "def colorClutter(inputImage, numlevels, pool_sigma=3, pix=1):\n",
    "    \n",
    "    if isinstance(inputImage, list):\n",
    "        L_pyr = RRLab[0]\n",
    "        a_pyr = RRLab[1]\n",
    "        b_pyr = RRLab[2]\n",
    "        \n",
    "    else:\n",
    "        pass #TODO\n",
    "    \n",
    "    clutter_levels = computeColorClutter(L_pyr, a_pyr, b_pyr, pool_sigma);\n",
    "    \n",
    "\n",
    "    kernel_1d = np.array([[0.05, 0.25, 0.4, 0.25, 0.05]])\n",
    "    kernel_2d = signal.convolve2d(kernel_1d, kernel_1d.T)\n",
    "    \n",
    "    #TODO\n",
    "    \n",
    "    return clutter_levels, clutter_map"
   ]
  },
  {
   "cell_type": "code",
   "execution_count": 82,
   "id": "0be3c76d",
   "metadata": {},
   "outputs": [],
   "source": [
    "import cv2\n",
    "import pyrtools as pt\n",
    "import numpy as np\n",
    "\n",
    "def computeClutter(inputImage, numlevels=3, contrast_filt_sigma=1, contrast_pool_sigma=None, color_pool_sigma=3, contrast_pix=0, color_pix=0, orient_pix=0):\n",
    "    \n",
    "    if contrast_pool_sigma is None:\n",
    "        contrast_pool_sigma = 3 * contrast_filt_sigma\n",
    "\n",
    "    orient_pool_sigma = 7/2\n",
    "\n",
    "    if isinstance(inputImage, str):\n",
    "        im = cv2.imread(inputImage)\n",
    "        if im is None:\n",
    "            print('Unable to open %s image file.') #TODO: add logger\n",
    "            return 0\n",
    "        else:\n",
    "            m, n, d = im.shape\n",
    "            if d == 3:\n",
    "                Lab = cv2.cvtColor(im, cv2.COLOR_RGB2LAB)\n",
    "                RRLab = [0, 0, 0]\n",
    "            else:\n",
    "                print('should be run on RGB color images.  Input image appears to be grayscale.\\n')\n",
    "                return 0\n",
    "  \n",
    "    else:\n",
    "        pass #TODO \n",
    "\n",
    "    pyr = pt.pyramids.GaussianPyramid(Lab[:,:,0], height=numlevels)\n",
    "    RRLab[0] = pyr.pyr_coeffs\n",
    "\n",
    "    pyr = pt.pyramids.GaussianPyramid(Lab[:,:,1], height=numlevels)\n",
    "    RRLab[1] = pyr.pyr_coeffs\n",
    "\n",
    "    pyr = pt.pyramids.GaussianPyramid(Lab[:,:,0], height=numlevels)\n",
    "    RRLab[2] = pyr.pyr_coeffs\n",
    "        \n",
    "    \n",
    "#     # compute the color clutter\n",
    "#     color_clutter_levels, color_clutter_map = colorClutter(RRLab, numlevels, color_pool_sigma, color_pix)\n",
    "#     # compute the contrast clutter\n",
    "#     contrast_clutter_levels, contrast_clutter_map = contrastClutter(RRLab, numlevels, contrast_filt_sigma, contrast_pool_sigma, contrast_pix)\n",
    "#     #compute the orientation clutter\n",
    "#     orient_clutter_levels, orientation_clutter_map = orientationClutter(RRLab, numlevels, orient_pix)\n",
    "\n",
    "#     # output them in cell structures\n",
    "#     color_clutter = [color_clutter_levels, color_clutter_map]\n",
    "#     contrast_clutter = [contrast_clutter_levels, contrast_clutter_map]\n",
    "#     orientation_clutter = [orient_clutter_levels, orientation_clutter_map]\n",
    "\n",
    "    return RRLab\n",
    "    # return color_clutter, contrast_clutter, orientation_clutter\n"
   ]
  },
  {
   "cell_type": "code",
   "execution_count": null,
   "id": "f5a2b39d",
   "metadata": {},
   "outputs": [],
   "source": [
    "def getClutter_Fc(filename, p=1):\n",
    "    color_clutter, contrast_clutter, orient_clutter = computeClutter(filename, 3, 1, 3, 3, 0, 0, 0)\n",
    "    clutter_map_fc = color_clutter{2} / 0.2088 + contrast_clutter{2} / 0.0660 + orient_clutter{2} / 0.0269\n",
    "    clutter_scalar_fc = mean(clutter_map_fc(:).^ p).^ (1 / p) #element wise\n",
    "    return clutter_scalar_fc, clutter_map_fc\n"
   ]
  },
  {
   "cell_type": "code",
   "execution_count": null,
   "id": "e156d678",
   "metadata": {},
   "outputs": [],
   "source": [
    "clutter_scalar_fc, clutter_map_fc = getClutter_FC('test.jpg');"
   ]
  }
 ],
 "metadata": {
  "kernelspec": {
   "display_name": "Python 3",
   "language": "python",
   "name": "python3"
  },
  "language_info": {
   "codemirror_mode": {
    "name": "ipython",
    "version": 3
   },
   "file_extension": ".py",
   "mimetype": "text/x-python",
   "name": "python",
   "nbconvert_exporter": "python",
   "pygments_lexer": "ipython3",
   "version": "3.8.10"
  }
 },
 "nbformat": 4,
 "nbformat_minor": 5
}
